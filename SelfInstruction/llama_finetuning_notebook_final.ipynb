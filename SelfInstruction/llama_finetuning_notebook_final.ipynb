{
 "cells": [
  {
   "cell_type": "markdown",
   "metadata": {},
   "source": [
    "# Fine-tuning Llama 3.2 1B Base Model to Instruction Model\n",
    "\n",
    "This notebook demonstrates how to fine-tune the Llama 3.2 1B base model into an instruction-following model using the Alpaca dataset. We'll use:\n",
    "- Hugging Face Transformers for the model\n",
    "- PEFT (Parameter-Efficient Fine-Tuning) with LoRA\n",
    "- TRL (Transformer Reinforcement Learning) for SFT (Supervised Fine-Tuning)\n",
    "- Alpaca dataset for instruction examples"
   ]
  },
  {
   "cell_type": "markdown",
   "metadata": {},
   "source": [
    "## Environment Setup\n",
    "\n",
    "First, let's install the necessary packages:"
   ]
  },
  {
   "cell_type": "code",
   "execution_count": null,
   "metadata": {},
   "outputs": [],
   "source": [
    "!pip install transformers datasets peft trl accelerate bitsandbytes wandb sentencepiece"
   ]
  },
  {
   "cell_type": "markdown",
   "metadata": {},
   "source": [
    "## Imports and Setup"
   ]
  },
  {
   "cell_type": "code",
   "execution_count": null,
   "metadata": {},
   "outputs": [],
   "source": [
    "import os\n",
    "import torch\n",
    "import pandas as pd\n",
    "import numpy as np\n",
    "from datasets import load_dataset, Dataset\n",
    "from transformers import (\n",
    "    AutoModelForCausalLM,\n",
    "    AutoTokenizer,\n",
    "    BitsAndBytesConfig,\n",
    "    TrainingArguments,\n",
    "    pipeline,\n",
    "    logging\n",
    ")\n",
    "from peft import LoraConfig, PeftModel, get_peft_model, prepare_model_for_kbit_training\n",
    "from trl import SFTTrainer, SFTConfig\n",
    "\n",
    "# Set seed for reproducibility\n",
    "torch.manual_seed(42)\n",
    "np.random.seed(42)\n",
    "\n",
    "# Check if GPU is available\n",
    "device = \"cuda\" if torch.cuda.is_available() else \"cpu\"\n",
    "print(f\"Using device: {device}\")\n",
    "\n",
    "# Set logging verbosity\n",
    "logging.set_verbosity_info()\n",
    "\n",
    "hf_token = \"\""
   ]
  },
  {
   "cell_type": "markdown",
   "metadata": {},
   "source": [
    "## Load the Alpaca Dataset\n",
    "\n",
    "We'll load the Alpaca dataset which contains instruction-following examples"
   ]
  },
  {
   "cell_type": "code",
   "execution_count": null,
   "metadata": {},
   "outputs": [],
   "source": [
    "# Load the Alpaca dataset from Hugging Face\n",
    "# Note: You can also use the JSON version at: https://github.com/tatsu-lab/stanford_alpaca/blob/main/alpaca_data.json\n",
    "alpaca_dataset = load_dataset(\"tatsu-lab/alpaca\")\n",
    "print(f\"Dataset loaded with {len(alpaca_dataset['train'])} examples\")\n",
    "alpaca_dataset['train'][0]  # Display first example"
   ]
  },
  {
   "cell_type": "markdown",
   "metadata": {},
   "source": [
    "## Prompt Template\n",
    "\n",
    "Define a template for formatting our instruction inputs. This is crucial for teaching the model to respond to instructions in a consistent format."
   ]
  },
  {
   "cell_type": "code",
   "execution_count": null,
   "metadata": {},
   "outputs": [],
   "source": [
    "def format_prompt(example):\n",
    "    \"\"\"Format the instruction and input into a prompt.\"\"\"\n",
    "    instruction = example[\"instruction\"]\n",
    "    input_text = example[\"input\"]\n",
    "    output_text = example[\"output\"]\n",
    "    \n",
    "    # Construct the prompt based on whether input is empty or not\n",
    "    if input_text:\n",
    "        prompt = f\"\"\"<|system|>\n",
    "You are a helpful assistant.\n",
    "<|user|>\n",
    "{instruction}\n",
    "\n",
    "{input_text}\n",
    "<|assistant|>\n",
    "\"\"\"\n",
    "    else:\n",
    "        prompt = f\"\"\"<|system|>\n",
    "You are a helpful assistant.\n",
    "<|user|>\n",
    "{instruction}\n",
    "<|assistant|>\n",
    "\"\"\"\n",
    "    \n",
    "    # For training, we need both the prompt and the expected output\n",
    "    example[\"prompt\"] = prompt\n",
    "    example[\"completion\"] = output_text\n",
    "    \n",
    "    return example"
   ]
  },
  {
   "cell_type": "code",
   "execution_count": null,
   "metadata": {},
   "outputs": [],
   "source": [
    "# Apply the prompt formatting\n",
    "formatted_dataset = alpaca_dataset[\"train\"].map(format_prompt)\n",
    "\n",
    "# Display an example of formatted input\n",
    "print(\"Formatted Prompt Example:\")\n",
    "print(formatted_dataset[0][\"prompt\"])\n",
    "print(\"\\nExpected Response:\")\n",
    "print(formatted_dataset[0][\"completion\"])"
   ]
  },
  {
   "cell_type": "markdown",
   "metadata": {},
   "source": [
    "## Load the Llama 3.2 1B Base Model\n",
    "\n",
    "We'll use 4-bit quantization to reduce memory requirements."
   ]
  },
  {
   "cell_type": "code",
   "execution_count": null,
   "metadata": {},
   "outputs": [],
   "source": [
    "# Configuration for 4-bit quantization\n",
    "bnb_config = BitsAndBytesConfig(\n",
    "    load_in_4bit=True,\n",
    "    bnb_4bit_quant_type=\"nf4\",\n",
    "    bnb_4bit_compute_dtype=torch.float16,\n",
    "    bnb_4bit_use_double_quant=True\n",
    ")"
   ]
  },
  {
   "cell_type": "code",
   "execution_count": null,
   "metadata": {},
   "outputs": [],
   "source": [
    "# Load the Llama 3.2 1B base model\n",
    "model_id = \"meta-llama/Llama-3.2-1B\"\n",
    "\n",
    "# Note: If using Meta's model, you need to have accepted their license and have an access token\n",
    "# Alternatively, you can use models from other providers that offer Llama 3.2 weights\n",
    "\n",
    "model = AutoModelForCausalLM.from_pretrained(\n",
    "    model_id,\n",
    "    quantization_config=bnb_config,\n",
    "    device_map=\"auto\",\n",
    "    trust_remote_code=True,\n",
    "    # use_auth_token=True  # Use your HF token for gated models\n",
    "    token=hf_token\n",
    ")\n",
    "\n",
    "tokenizer = AutoTokenizer.from_pretrained(\n",
    "    model_id,\n",
    "    padding_side=\"right\",\n",
    "    # use_auth_token=True  # Use your HF token for gated models\n",
    "    token=hf_token\n",
    ")\n",
    "\n",
    "# Make sure the tokenizer has pad_token set properly\n",
    "if tokenizer.pad_token is None:\n",
    "    tokenizer.pad_token = tokenizer.eos_token\n",
    "    tokenizer.pad_token_id = tokenizer.eos_token_id"
   ]
  },
  {
   "cell_type": "markdown",
   "metadata": {},
   "source": [
    "## Configure LoRA for Parameter-Efficient Fine-Tuning\n",
    "\n",
    "LoRA (Low-Rank Adaptation) allows us to fine-tune the model with much fewer parameters."
   ]
  },
  {
   "cell_type": "code",
   "execution_count": null,
   "metadata": {},
   "outputs": [],
   "source": [
    "# Define LoRA configuration\n",
    "peft_config = LoraConfig(\n",
    "    r=8,  # Rank of the update matrices\n",
    "    lora_alpha=16,  # Parameter for scaling\n",
    "    lora_dropout=0.05,  # Dropout probability for LoRA layers\n",
    "    bias=\"none\",\n",
    "    task_type=\"CAUSAL_LM\",\n",
    "    target_modules=[\"q_proj\", \"k_proj\", \"v_proj\", \"o_proj\",\n",
    "                    \"gate_proj\", \"up_proj\", \"down_proj\"\n",
    "                   ]  # Modules to apply LoRA to\n",
    ")\n",
    "\n",
    "# Prepare the model with LoRA\n",
    "model = prepare_model_for_kbit_training(model)\n",
    "model = get_peft_model(model, peft_config)"
   ]
  },
  {
   "cell_type": "markdown",
   "metadata": {},
   "source": [
    "## Set Up Training Arguments"
   ]
  },
  {
   "cell_type": "code",
   "execution_count": null,
   "metadata": {},
   "outputs": [],
   "source": [
    "# Define training arguments\n",
    "output_dir = \"./llama-3.2-1b-alpaca-lora\"\n",
    "per_device_train_batch_size = 4\n",
    "gradient_accumulation_steps = 4\n",
    "optim = \"paged_adamw_32bit\"\n",
    "learning_rate = 2e-4\n",
    "lr_scheduler_type = \"cosine\"\n",
    "max_steps = 100\n",
    "warmup_ratio = 0.03\n",
    "max_grad_norm = 0.3\n",
    "group_by_length = True\n",
    "\n",
    "# Set up the training arguments\n",
    "training_args = SFTConfig(\n",
    "    output_dir=output_dir,\n",
    "    per_device_train_batch_size=per_device_train_batch_size,\n",
    "    gradient_accumulation_steps=gradient_accumulation_steps,\n",
    "    optim=optim,\n",
    "    learning_rate=learning_rate,\n",
    "    lr_scheduler_type=lr_scheduler_type,\n",
    "    max_steps=max_steps,\n",
    "    warmup_ratio=warmup_ratio,\n",
    "    max_grad_norm=max_grad_norm,\n",
    "    fp16=True,\n",
    "    logging_steps=10,\n",
    "    save_strategy=\"steps\",\n",
    "    save_steps=250,\n",
    "    group_by_length=group_by_length,\n",
    "    report_to=\"none\",  # Remove or change to \"none\" if you don't want to use Weights & Biases\n",
    "    dataset_text_field=\"prompt\",\n",
    "    max_seq_length=2048,\n",
    "    packing=False,  # Set to True for more efficient training if data format allows\n",
    ")"
   ]
  },
  {
   "cell_type": "markdown",
   "metadata": {},
   "source": [
    "## Create SFT Trainer\n",
    "\n",
    "TRL's SFTTrainer makes it easy to fine-tune using instruction datasets."
   ]
  },
  {
   "cell_type": "code",
   "execution_count": null,
   "metadata": {},
   "outputs": [],
   "source": [
    "trainer = SFTTrainer(\n",
    "    model=model,\n",
    "    args=training_args,\n",
    "    train_dataset=formatted_dataset,\n",
    "    peft_config=peft_config,\n",
    "    processing_class=tokenizer\n",
    ")"
   ]
  },
  {
   "cell_type": "markdown",
   "metadata": {},
   "source": [
    "## Start Training"
   ]
  },
  {
   "cell_type": "code",
   "execution_count": null,
   "metadata": {},
   "outputs": [],
   "source": [
    "# Start the training process\n",
    "trainer.train()"
   ]
  },
  {
   "cell_type": "markdown",
   "metadata": {},
   "source": [
    "## Save the Fine-tuned Model"
   ]
  },
  {
   "cell_type": "code",
   "execution_count": null,
   "metadata": {},
   "outputs": [],
   "source": [
    "# Save the trained model\n",
    "trainer.model.save_pretrained(f\"{output_dir}/final_model\")\n",
    "tokenizer.save_pretrained(f\"{output_dir}/final_model\")"
   ]
  },
  {
   "cell_type": "markdown",
   "metadata": {},
   "source": [
    "## Test the Fine-tuned Model"
   ]
  },
  {
   "cell_type": "code",
   "execution_count": null,
   "metadata": {},
   "outputs": [],
   "source": [
    "# Load the fine-tuned model\n",
    "# For inference, we load the base model and then apply the LoRA adapter\n",
    "base_model = AutoModelForCausalLM.from_pretrained(\n",
    "    model_id, \n",
    "    device_map=\"auto\",\n",
    "    torch_dtype=torch.float16,\n",
    "    trust_remote_code=True,\n",
    "    token=hf_token\n",
    ")\n",
    "\n",
    "tokenizer = AutoTokenizer.from_pretrained(\n",
    "    model_id,\n",
    "    use_auth_token=True,\n",
    "    token=hf_token\n",
    ")\n",
    "\n",
    "# Load the LoRA adapter\n",
    "model = PeftModel.from_pretrained(base_model, f\"{output_dir}/final_model\")"
   ]
  },
  {
   "cell_type": "code",
   "execution_count": null,
   "metadata": {},
   "outputs": [],
   "source": [
    "# Test the model with a few examples\n",
    "test_examples = [\n",
    "    \"Explain the concept of machine learning to a 10-year-old.\",\n",
    "    \"What are three ways to improve your productivity when working from home?\",\n",
    "    \"Write a short poem about autumn leaves.\"\n",
    "]\n",
    "\n",
    "# Create a text generation pipeline\n",
    "generator = pipeline(\n",
    "    \"text-generation\",\n",
    "    model=model,\n",
    "    tokenizer=tokenizer,\n",
    "    max_length=512,\n",
    "    temperature=0.7,\n",
    "    top_p=0.9,\n",
    "    pad_token_id=tokenizer.pad_token_id,\n",
    "    eos_token_id=tokenizer.eos_token_id\n",
    ")\n",
    "\n",
    "for example in test_examples:\n",
    "    # Format the prompt\n",
    "    prompt = f\"\"\"<|system|>\n",
    "You are a helpful assistant.\n",
    "<|user|>\n",
    "{example}\n",
    "<|assistant|>\n",
    "\"\"\"\n",
    "    \n",
    "    print(f\"\\n\\nPrompt: {example}\")\n",
    "    print(\"\\nResponse:\")\n",
    "    response = generator(prompt)[0][\"generated_text\"]\n",
    "    # Extract only the assistant's response\n",
    "    assistant_response = response.split(\"<|assistant|>\")[1].strip()\n",
    "    print(assistant_response)"
   ]
  },
  {
   "cell_type": "markdown",
   "metadata": {},
   "source": [
    "## (Optional) Merge LoRA Weights with Base Model for Easier Deployment"
   ]
  },
  {
   "cell_type": "code",
   "execution_count": null,
   "metadata": {},
   "outputs": [],
   "source": [
    "# Merge the LoRA weights with the base model\n",
    "merged_model = model.merge_and_unload()\n",
    "\n",
    "# Save the merged model\n",
    "merged_model.save_pretrained(f\"{output_dir}/merged_model\")\n",
    "tokenizer.save_pretrained(f\"{output_dir}/merged_model\")"
   ]
  },
  {
   "cell_type": "markdown",
   "metadata": {},
   "source": [
    "## (Optional) Upload to Hugging Face Hub\n",
    "\n",
    "If you want to share your model with the community:"
   ]
  },
  {
   "cell_type": "code",
   "execution_count": null,
   "metadata": {},
   "outputs": [],
   "source": [
    "from huggingface_hub import HfApi\n",
    "\n",
    "# Set your Hugging Face credentials\n",
    "hf_token = \"your_huggingface_token\"  # Replace with your token\n",
    "api = HfApi(token=hf_token)\n",
    "\n",
    "# Set your model repository name\n",
    "repo_name = \"your-username/llama-3.2-1b-alpaca-instruct\"  # Replace with your desired repo name\n",
    "\n",
    "# Push to hub\n",
    "model.push_to_hub(repo_name, use_auth_token=hf_token)\n",
    "tokenizer.push_to_hub(repo_name, use_auth_token=hf_token)"
   ]
  }
 ],
 "metadata": {
  "kernelspec": {
   "display_name": "llm",
   "language": "python",
   "name": "python3"
  },
  "language_info": {
   "codemirror_mode": {
    "name": "ipython",
    "version": 3
   },
   "file_extension": ".py",
   "mimetype": "text/x-python",
   "name": "python",
   "nbconvert_exporter": "python",
   "pygments_lexer": "ipython3",
   "version": "3.10.16"
  }
 },
 "nbformat": 4,
 "nbformat_minor": 4
}
