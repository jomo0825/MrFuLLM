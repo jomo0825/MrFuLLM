{
 "cells": [
  {
   "cell_type": "markdown",
   "id": "50bd8cf5",
   "metadata": {},
   "source": [
    "# Self-Instruct Data Generation Example\n",
    "This notebook demonstrates a Self-Instruct-style synthetic data generation pipeline for two tasks: **Sentiment Classification** and **Question Answering (QA)**."
   ]
  },
  {
   "cell_type": "markdown",
   "id": "f8997e23",
   "metadata": {},
   "source": [
    "## Setup\n",
    "Install required libraries and set your OpenAI API key."
   ]
  },
  {
   "cell_type": "code",
   "execution_count": null,
   "id": "d45a0633",
   "metadata": {},
   "outputs": [],
   "source": [
    "!pip install openai\n",
    "\n",
    "import os\n",
    "import json\n",
    "import openai\n",
    "\n",
    "# Set your OpenAI API key\n",
    "os.environ['OPENAI_API_KEY'] = 'YOUR_API_KEY_HERE'\n",
    "openai.api_key = os.getenv('OPENAI_API_KEY')"
   ]
  },
  {
   "cell_type": "markdown",
   "id": "f79a6992",
   "metadata": {},
   "source": [
    "## Define Seed Instructions\n",
    "We start with two seed instructions, one for sentiment classification and one for QA."
   ]
  },
  {
   "cell_type": "code",
   "execution_count": null,
   "id": "bf575027",
   "metadata": {},
   "outputs": [],
   "source": [
    "seed_instructions = [\n",
    "    {\n",
    "        \"instruction\": \"Classify the sentiment of the following review: positive, neutral, or negative.\",\n",
    "        \"input\": \"I absolutely loved this product, it works flawlessly!\"\n",
    "    },\n",
    "    {\n",
    "        \"instruction\": \"Answer the question based on the context provided.\",\n",
    "        \"input\": \"Context: The Eiffel Tower is located in Paris.\\nQuestion: Where is the Eiffel Tower located?\"\n",
    "    }\n",
    "]\n",
    "\n",
    "# Number of synthetic examples per seed\n",
    "num_samples = 5"
   ]
  },
  {
   "cell_type": "markdown",
   "id": "c175b816",
   "metadata": {},
   "source": [
    "## Generation Function\n",
    "Define a function to call the OpenAI API and generate synthetic examples."
   ]
  },
  {
   "cell_type": "code",
   "execution_count": null,
   "id": "d5d50b01",
   "metadata": {},
   "outputs": [],
   "source": [
    "def generate_example(seed, model=\"text-davinci-003\"):\n",
    "    prompt = f\"Instruction: {seed['instruction']}\\nInput: {seed['input']}\\nOutput:\"\n",
    "    response = openai.Completion.create(\n",
    "        engine=model,\n",
    "        prompt=prompt,\n",
    "        max_tokens=64,\n",
    "        temperature=0.7,\n",
    "        n=1,\n",
    "        stop=[\"\\n\"]\n",
    "    )\n",
    "    text = response.choices[0].text.strip()\n",
    "    return {\n",
    "        \"instruction\": seed['instruction'],\n",
    "        \"input\": seed['input'],\n",
    "        \"output\": text\n",
    "    }"
   ]
  },
  {
   "cell_type": "markdown",
   "id": "93998e49",
   "metadata": {},
   "source": [
    "## Generate Synthetic Dataset"
   ]
  },
  {
   "cell_type": "code",
   "execution_count": null,
   "id": "d50245b6",
   "metadata": {},
   "outputs": [],
   "source": [
    "dataset = []\n",
    "for seed in seed_instructions:\n",
    "    for _ in range(num_samples):\n",
    "        example = generate_example(seed)\n",
    "        dataset.append(example)\n",
    "\n",
    "# Save to JSONL file\n",
    "output_path = 'self_instruct_dataset.jsonl'\n",
    "with open(output_path, 'w', encoding='utf-8') as f:\n",
    "    for item in dataset:\n",
    "        f.write(json.dumps(item, ensure_ascii=False) + '\\n')\n",
    "print(f\"Saved {len(dataset)} examples to {output_path}\")"
   ]
  },
  {
   "cell_type": "markdown",
   "id": "b5e0938d",
   "metadata": {},
   "source": [
    "## Inspect Generated Examples"
   ]
  },
  {
   "cell_type": "code",
   "execution_count": null,
   "id": "a7601dd7",
   "metadata": {},
   "outputs": [],
   "source": [
    "# Display first 5 examples\n",
    "for ex in dataset[:5]:\n",
    "    print(json.dumps(ex, ensure_ascii=False, indent=2))"
   ]
  }
 ],
 "metadata": {},
 "nbformat": 4,
 "nbformat_minor": 5
}
